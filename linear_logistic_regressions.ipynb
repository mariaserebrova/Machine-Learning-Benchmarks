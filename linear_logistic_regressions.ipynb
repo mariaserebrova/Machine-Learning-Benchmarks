{
 "cells": [
  {
   "cell_type": "markdown",
   "metadata": {},
   "source": [
    "ручная имплементация линейной регрессии"
   ]
  },
  {
   "cell_type": "code",
   "execution_count": 2,
   "metadata": {},
   "outputs": [],
   "source": [
    "import pandas as pd\n",
    "\n",
    "def load_boston_data():\n",
    "    url = \"https://raw.githubusercontent.com/selva86/datasets/master/BostonHousing.csv\"\n",
    "    data = pd.read_csv(url)\n",
    "    X = data.drop(columns=['medv']).values\n",
    "    y = data['medv'].values\n",
    "    return X, y\n"
   ]
  },
  {
   "cell_type": "code",
   "execution_count": 3,
   "metadata": {},
   "outputs": [],
   "source": [
    "import numpy as np\n",
    "\n",
    "def normalize(X):\n",
    "    X_mean = X.mean(axis=0)\n",
    "    X_std = X.std(axis=0)\n",
    "    return (X - X_mean) / X_std\n",
    "\n",
    "def linear_regression(X, y, learning_rate=0.01, epochs=1000):\n",
    "    w = np.zeros(X.shape[1])\n",
    "    b = 0.0\n",
    "    n = len(X)\n",
    "\n",
    "    for _ in range(epochs):\n",
    "        y_pred = X.dot(w) + b\n",
    "        grad_w = -2 / n * X.T.dot(y - y_pred)\n",
    "        grad_b = -2 / n * np.sum(y - y_pred)\n",
    "\n",
    "        w -= learning_rate * grad_w\n",
    "        b -= learning_rate * grad_b\n",
    "\n",
    "    return w, b\n",
    "\n",
    "def mean_squared_error(y_true, y_pred):\n",
    "    return np.mean((y_true - y_pred) ** 2)"
   ]
  },
  {
   "cell_type": "code",
   "execution_count": 4,
   "metadata": {},
   "outputs": [
    {
     "name": "stdout",
     "output_type": "stream",
     "text": [
      "Полученные коэффициенты: [-1.51232973  0.95605998  0.06557457  0.54470492 -1.39601121  3.33007286\n",
      "  0.03152965 -2.70040524  2.67456512 -1.51577457 -1.66990732  0.39905218\n",
      " -3.87486478]\n",
      "Свободный член (интерсепт): 22.912762348175903\n",
      "MSE для линейной регрессии на тестовой выборке: 24.122953138113157\n"
     ]
    }
   ],
   "source": [
    "X, y = load_boston_data()\n",
    "X = normalize(X)\n",
    "\n",
    "split_index = int(0.8 * len(X))\n",
    "X_train, X_test = X[:split_index], X[split_index:]\n",
    "y_train, y_test = y[:split_index], y[split_index:]\n",
    "\n",
    "w, b = linear_regression(X_train, y_train)\n",
    "\n",
    "y_pred = X_test.dot(w) + b\n",
    "\n",
    "mse = mean_squared_error(y_test, y_pred)\n",
    "\n",
    "print(f\"Полученные коэффициенты: {w}\")\n",
    "print(f\"Свободный член (интерсепт): {b}\")\n",
    "print(f\"MSE для линейной регрессии на тестовой выборке: {mse}\")"
   ]
  },
  {
   "cell_type": "markdown",
   "metadata": {},
   "source": [
    "имплементация линейной регрессии с помомщью библиотек"
   ]
  },
  {
   "cell_type": "code",
   "execution_count": 5,
   "metadata": {},
   "outputs": [
    {
     "name": "stdout",
     "output_type": "stream",
     "text": [
      "Коэффициенты модели: [-1.00213533  0.69626862  0.27806485  0.7187384  -2.0223194   3.14523956\n",
      " -0.17604788 -3.0819076   2.25140666 -1.76701378 -2.03775151  1.12956831\n",
      " -3.61165842]\n",
      "Свободный член (интерсепт): 22.796534653465375\n",
      "MSE на тестовой выборке: 24.29111947497351\n"
     ]
    }
   ],
   "source": [
    "import pandas as pd\n",
    "from sklearn.model_selection import train_test_split\n",
    "from sklearn.linear_model import LinearRegression\n",
    "from sklearn.metrics import mean_squared_error\n",
    "from sklearn.preprocessing import StandardScaler\n",
    "\n",
    "def load_boston_data():\n",
    "    url = \"https://raw.githubusercontent.com/selva86/datasets/master/BostonHousing.csv\"\n",
    "    data = pd.read_csv(url)\n",
    "    X = data.drop(columns=['medv']).values\n",
    "    y = data['medv'].values\n",
    "    return X, y\n",
    "\n",
    "\n",
    "X, y = load_boston_data()\n",
    "\n",
    "\n",
    "X_train, X_test, y_train, y_test = train_test_split(X, y, test_size=0.2, random_state=42)\n",
    "\n",
    "\n",
    "scaler = StandardScaler()\n",
    "X_train = scaler.fit_transform(X_train)\n",
    "X_test = scaler.transform(X_test)\n",
    "\n",
    "\n",
    "model = LinearRegression()\n",
    "model.fit(X_train, y_train)\n",
    "\n",
    "\n",
    "y_pred = model.predict(X_test)\n",
    "\n",
    "\n",
    "mse = mean_squared_error(y_test, y_pred)\n",
    "\n",
    "print(f\"Коэффициенты модели: {model.coef_}\")\n",
    "print(f\"Свободный член (интерсепт): {model.intercept_}\")\n",
    "print(f\"MSE на тестовой выборке: {mse}\")\n"
   ]
  },
  {
   "cell_type": "markdown",
   "metadata": {},
   "source": [
    "ручная имплементация логистической регрессии"
   ]
  },
  {
   "cell_type": "code",
   "execution_count": 6,
   "metadata": {},
   "outputs": [],
   "source": [
    "from sklearn.datasets import load_breast_cancer\n",
    "\n",
    "# Загрузка данных\n",
    "def load_breast_cancer_data():\n",
    "    data = load_breast_cancer()\n",
    "    X = data.data\n",
    "    y = data.target\n",
    "    return X, y"
   ]
  },
  {
   "cell_type": "code",
   "execution_count": 7,
   "metadata": {},
   "outputs": [],
   "source": [
    "def normalize(X):\n",
    "    means = X.mean(axis=0)\n",
    "    stds = X.std(axis=0)\n",
    "    return (X - means) / stds\n",
    "\n",
    "def sigmoid(z):\n",
    "    return 1 / (1 + np.exp(-z))\n",
    "\n",
    "def logistic_regression(X, y, learning_rate=0.01, epochs=1000):\n",
    "    m, n = X.shape\n",
    "    w = np.random.randn(n)\n",
    "    b = 0\n",
    "\n",
    "    for _ in range(epochs):\n",
    "        z = np.dot(X, w) + b\n",
    "        y_pred = sigmoid(z)\n",
    "        dz = y_pred - y\n",
    "        dw = np.dot(X.T, dz) / m\n",
    "        db = np.sum(dz) / m\n",
    "\n",
    "        w -= learning_rate * dw\n",
    "        b -= learning_rate * db\n",
    "\n",
    "    return w, b\n",
    "\n",
    "def accuracy(y_true, y_pred):\n",
    "    y_pred_class = (y_pred >= 0.5).astype(int)\n",
    "    return np.mean(y_true == y_pred_class)\n",
    "\n",
    "def train_test_split_custom(X, y, test_size=0.2):\n",
    "    m = len(X)\n",
    "    test_size = int(m * test_size)\n",
    "    indices = np.random.permutation(m)\n",
    "    X_train, X_test = X[indices[:-test_size]], X[indices[-test_size:]]\n",
    "    y_train, y_test = y[indices[:-test_size]], y[indices[-test_size:]]\n",
    "    return X_train, X_test, y_train, y_test"
   ]
  },
  {
   "cell_type": "code",
   "execution_count": 8,
   "metadata": {},
   "outputs": [
    {
     "name": "stdout",
     "output_type": "stream",
     "text": [
      "Полученные коэффициенты: [ 0.53111525 -0.1325188   0.21408415 -0.10103908  0.910712   -0.69100881\n",
      " -1.16963646 -0.75544521 -0.40252279 -0.1308108  -0.88464128 -0.21608411\n",
      " -1.24318484 -0.00889182 -0.16934682  0.38043196 -1.09199572  1.35727347\n",
      "  0.51263137  0.14878691  0.13198244  0.23925218 -0.9425043  -0.38025793\n",
      " -1.11692391 -0.22128254 -0.36256427 -0.58075158 -0.61197204  1.62416415]\n",
      "Свободный член (интерсепт): 0.20122678113456788\n",
      "Точность логистической регрессии на тестовой выборке: 0.911504424778761\n"
     ]
    }
   ],
   "source": [
    "X, y = load_breast_cancer_data()\n",
    "\n",
    "X = normalize(X)\n",
    "\n",
    "X_train, X_test, y_train, y_test = train_test_split_custom(X, y)\n",
    "\n",
    "w, b = logistic_regression(X_train, y_train, learning_rate=0.001, epochs=5000)\n",
    "\n",
    "y_pred = sigmoid(np.dot(X_test, w) + b)\n",
    "\n",
    "acc = accuracy(y_test, y_pred)\n",
    "\n",
    "print(f\"Полученные коэффициенты: {w}\")\n",
    "print(f\"Свободный член (интерсепт): {b}\")\n",
    "print(f\"Точность логистической регрессии на тестовой выборке: {acc}\")"
   ]
  },
  {
   "cell_type": "code",
   "execution_count": 9,
   "metadata": {},
   "outputs": [
    {
     "name": "stdout",
     "output_type": "stream",
     "text": [
      "Коэффициенты модели: [[   9.43309636  -16.98638813   40.02092582   10.89014962    5.03344322\n",
      "   274.94009818 -134.8381584  -266.18473606   40.99650503 -168.01794604\n",
      "  -259.63946217   35.91792789  115.35011389 -167.38940131  -79.54006031\n",
      "   -97.5741303   246.60809325  -70.05165414   95.95418597  131.93923412\n",
      "  -105.87135969  -91.92127648   73.01874488 -103.73668988   93.97496151\n",
      "    29.28537604 -244.05971135   -8.90816016 -169.6548548    59.68383553]]\n",
      "Свободный член (интерсепт): [-63.53260019]\n",
      "Точность логистической регрессии на тестовой выборке: 0.9385964912280702\n"
     ]
    }
   ],
   "source": [
    "from sklearn.linear_model import LogisticRegression\n",
    "from sklearn.metrics import accuracy_score\n",
    "\n",
    "X, y = load_breast_cancer_data()\n",
    "\n",
    "X_train, X_test, y_train, y_test = train_test_split(X, y, test_size=0.2, random_state=42)\n",
    "\n",
    "scaler = StandardScaler()\n",
    "X_train = scaler.fit_transform(X_train)\n",
    "X_test = scaler.transform(X_test)\n",
    "\n",
    "model = LogisticRegression(max_iter=1000, penalty=None)\n",
    "model.fit(X_train, y_train)\n",
    "\n",
    "y_pred = model.predict(X_test)\n",
    "\n",
    "acc = accuracy_score(y_test, y_pred)\n",
    "\n",
    "print(f\"Коэффициенты модели: {model.coef_}\")\n",
    "print(f\"Свободный член (интерсепт): {model.intercept_}\")\n",
    "print(f\"Точность логистической регрессии на тестовой выборке: {acc}\")\n"
   ]
  },
  {
   "cell_type": "code",
   "execution_count": null,
   "metadata": {},
   "outputs": [],
   "source": []
  }
 ],
 "metadata": {
  "kernelspec": {
   "display_name": "Python 3",
   "language": "python",
   "name": "python3"
  },
  "language_info": {
   "codemirror_mode": {
    "name": "ipython",
    "version": 3
   },
   "file_extension": ".py",
   "mimetype": "text/x-python",
   "name": "python",
   "nbconvert_exporter": "python",
   "pygments_lexer": "ipython3",
   "version": "3.11.9"
  }
 },
 "nbformat": 4,
 "nbformat_minor": 2
}
